{
 "cells": [
  {
   "cell_type": "code",
   "execution_count": 1,
   "id": "initial_id",
   "metadata": {
    "collapsed": true,
    "ExecuteTime": {
     "end_time": "2024-04-27T15:51:31.564440422Z",
     "start_time": "2024-04-27T15:51:31.376260033Z"
    }
   },
   "outputs": [],
   "source": [
    "import numpy as np\n",
    "from lib.photo import IMAGE\n",
    "import os\n",
    "from PIL import Image"
   ]
  },
  {
   "cell_type": "code",
   "outputs": [],
   "source": [
    "def list_files(directory_path):\n",
    "    # Use the os.walk() function to iterate over each directory in the file system hierarchy\n",
    "    file_list = []\n",
    "    for root, dirs, files in os.walk(directory_path):\n",
    "        # For each directory, iterate over each file\n",
    "        for file in files:\n",
    "            file_list.append(os.path.join(root, file))\n",
    "    return file_list\n",
    "start_path = \"./data/faces\"\n",
    "file_list = list_files(start_path)\n",
    "img_list = []\n",
    "for file_path in file_list:\n",
    "    img = IMAGE(file_path)\n",
    "    img_list.append(img)"
   ],
   "metadata": {
    "collapsed": false,
    "ExecuteTime": {
     "end_time": "2024-04-27T15:52:11.466383063Z",
     "start_time": "2024-04-27T15:52:06.733175751Z"
    }
   },
   "id": "3af2ff7d6afc2dee",
   "execution_count": 2
  },
  {
   "cell_type": "code",
   "outputs": [],
   "source": [
    "for iter in range(len(img_list)):\n",
    "    img_list[iter].array = img_list[iter].array / 255\n",
    "    mean_val = np.mean(img_list[iter].array)\n",
    "    std_val = np.std(img_list[iter].array)\n",
    "    img_list[iter].array = (img_list[iter].array - mean_val) / std_val"
   ],
   "metadata": {
    "collapsed": false,
    "ExecuteTime": {
     "end_time": "2024-04-27T15:52:17.998421454Z",
     "start_time": "2024-04-27T15:52:17.879126006Z"
    }
   },
   "id": "30ce8416a50f0b05",
   "execution_count": 3
  },
  {
   "cell_type": "code",
   "outputs": [
    {
     "name": "stdout",
     "output_type": "stream",
     "text": [
      "For cleaned images: the total number of my training data is 624 in 1888\n"
     ]
    }
   ],
   "source": [
    "# select images\n",
    "cleaned_imglist = []\n",
    "count = 0\n",
    "for iter in range(len(img_list)):\n",
    "    if img_list[iter].imgsize[0] < 60:\n",
    "        cleaned_imglist.append(img_list[iter])\n",
    "        count += 1\n",
    "print(f\"For cleaned images: the total number of my training data is {count} in {len(img_list)}\")"
   ],
   "metadata": {
    "collapsed": false,
    "ExecuteTime": {
     "end_time": "2024-04-27T16:07:41.556097278Z",
     "start_time": "2024-04-27T16:07:41.553943712Z"
    }
   },
   "id": "35b9ae0ff53a1d5d",
   "execution_count": 10
  },
  {
   "cell_type": "code",
   "outputs": [],
   "source": [
    "from scipy import ndimage\n",
    "for iter in range(len(cleaned_imglist)):\n",
    "    if cleaned_imglist[iter].imgsize[0] == 30:\n",
    "        cleaned_imglist[iter].array = ndimage.zoom(cleaned_imglist[iter].array, (2, 2), order=1)\n",
    "        # update the size\n",
    "        cleaned_imglist[iter].imgsize = np.shape(cleaned_imglist[iter].array)\n",
    "    cleaned_imglist[iter].squarize()"
   ],
   "metadata": {
    "collapsed": false,
    "ExecuteTime": {
     "end_time": "2024-04-27T16:08:21.048664962Z",
     "start_time": "2024-04-27T16:08:20.823762943Z"
    }
   },
   "id": "4a0f847d66ff2525",
   "execution_count": 11
  },
  {
   "cell_type": "code",
   "outputs": [
    {
     "data": {
      "text/plain": "<Figure size 640x480 with 1 Axes>",
      "image/png": "[encoded data removed]"
     },
     "metadata": {},
     "output_type": "display_data"
    }
   ],
   "source": [
    "import matplotlib.pyplot as plt\n",
    "plt.figure()\n",
    "plt.imshow(cleaned_imglist[0].array, aspect='auto')\n",
    "plt.show()"
   ],
   "metadata": {
    "collapsed": false,
    "ExecuteTime": {
     "end_time": "2024-04-27T16:09:47.647821576Z",
     "start_time": "2024-04-27T16:09:47.574851949Z"
    }
   },
   "id": "80bca047921016cd",
   "execution_count": 13
  },
  {
   "cell_type": "code",
   "outputs": [
    {
     "name": "stdout",
     "output_type": "stream",
     "text": [
      "(64, 64)\n"
     ]
    }
   ],
   "source": [
    "print(cleaned_imglist[0].array.shape)"
   ],
   "metadata": {
    "collapsed": false,
    "ExecuteTime": {
     "end_time": "2024-04-27T16:16:14.719878796Z",
     "start_time": "2024-04-27T16:16:14.658900409Z"
    }
   },
   "id": "76332951bfedfb27",
   "execution_count": 14
  },
  {
   "cell_type": "code",
   "outputs": [],
   "source": [],
   "metadata": {
    "collapsed": false
   },
   "id": "bd6304bf7394df7f"
  }
 ],
 "metadata": {
  "kernelspec": {
   "display_name": "Python 3",
   "language": "python",
   "name": "python3"
  },
  "language_info": {
   "codemirror_mode": {
    "name": "ipython",
    "version": 2
   },
   "file_extension": ".py",
   "mimetype": "text/x-python",
   "name": "python",
   "nbconvert_exporter": "python",
   "pygments_lexer": "ipython2",
   "version": "2.7.6"
  }
 },
 "nbformat": 4,
 "nbformat_minor": 5
}
