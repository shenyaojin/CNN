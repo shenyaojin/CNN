{
 "cells": [
  {
   "cell_type": "code",
   "execution_count": null,
   "metadata": {
    "ExecuteTime": {
     "end_time": "2024-04-26T23:50:28.014881819Z",
     "start_time": "2024-04-26T23:50:27.501376434Z"
    }
   },
   "outputs": [],
   "source": [
    "from cnn.layers import *\n",
    "from cnn.models import Model, load_model\n",
    "from lib.photo import IMAGE\n",
    "import pickle\n",
    "import numpy as np\n",
    "import matplotlib.pyplot as plt"
   ]
  },
  {
   "cell_type": "code",
   "execution_count": null,
   "metadata": {
    "ExecuteTime": {
     "end_time": "2024-04-26T23:50:28.594121617Z",
     "start_time": "2024-04-26T23:50:28.538881588Z"
    }
   },
   "outputs": [],
   "source": [
    "with open(\"data/faces_cleaned.pkl\", \"rb\") as f:\n",
    "    img_list = pickle.load(f)"
   ]
  },
  {
   "cell_type": "code",
   "execution_count": null,
   "metadata": {
    "ExecuteTime": {
     "end_time": "2024-04-26T23:50:28.985150229Z",
     "start_time": "2024-04-26T23:50:28.981568424Z"
    },
    "collapsed": false
   },
   "outputs": [],
   "source": [
    "one_hot_code = []\n",
    "for iter in range(len(img_list)):\n",
    "    one_hot_code.append(img_list[iter].gen_onehot_code())"
   ]
  },
  {
   "cell_type": "code",
   "execution_count": null,
   "metadata": {
    "ExecuteTime": {
     "end_time": "2024-04-26T23:50:29.599823596Z",
     "start_time": "2024-04-26T23:50:29.597272377Z"
    },
    "collapsed": false
   },
   "outputs": [],
   "source": [
    "img_list[0].print_key()"
   ]
  },
  {
   "cell_type": "code",
   "execution_count": null,
   "metadata": {
    "ExecuteTime": {
     "end_time": "2024-04-26T23:50:30.070203473Z",
     "start_time": "2024-04-26T23:50:30.064674860Z"
    },
    "collapsed": false
   },
   "outputs": [],
   "source": [
    "# create training dataset and test dataset\n",
    "X_train = []\n",
    "Y_train = []\n",
    "X_test = []\n",
    "Y_test = []\n",
    "for iter in range(len(img_list) - 10):\n",
    "    X_train.append(img_list[iter].array)\n",
    "    Y_train.append(one_hot_code[iter].astype(np.int32))\n",
    "for iter in range(len(img_list) - 10, len(img_list)):\n",
    "    X_test.append(img_list[iter].array)\n",
    "    Y_test.append(one_hot_code[iter].astype(np.int32))"
   ]
  },
  {
   "cell_type": "code",
   "execution_count": null,
   "metadata": {
    "ExecuteTime": {
     "end_time": "2024-04-26T23:50:30.621974789Z",
     "start_time": "2024-04-26T23:50:30.609841952Z"
    },
    "collapsed": false
   },
   "outputs": [],
   "source": [
    "X_train = np.array(X_train)\n",
    "Y_train = np.array(Y_train)\n",
    "X_test = np.array(X_test)\n",
    "Y_test = np.array(Y_test)"
   ]
  },
  {
   "cell_type": "code",
   "execution_count": null,
   "metadata": {
    "ExecuteTime": {
     "end_time": "2024-04-26T23:50:31.015767231Z",
     "start_time": "2024-04-26T23:50:31.014171959Z"
    },
    "collapsed": false
   },
   "outputs": [],
   "source": [
    "X_train.shape, Y_train.shape, X_test.shape, Y_test.shape"
   ]
  },
  {
   "cell_type": "code",
   "execution_count": null,
   "metadata": {
    "ExecuteTime": {
     "end_time": "2024-04-26T23:50:31.314590227Z",
     "start_time": "2024-04-26T23:50:31.309573190Z"
    },
    "collapsed": false
   },
   "outputs": [],
   "source": [
    "X_train = np.expand_dims(X_train, axis=1)\n",
    "X_test = np.expand_dims(X_test, axis=1)"
   ]
  },
  {
   "cell_type": "code",
   "execution_count": null,
   "metadata": {
    "ExecuteTime": {
     "end_time": "2024-04-26T23:50:31.623234712Z",
     "start_time": "2024-04-26T23:50:31.619803458Z"
    },
    "collapsed": false
   },
   "outputs": [],
   "source": [
    "X_train.shape, Y_train.shape, X_test.shape, Y_test.shape"
   ]
  },
  {
   "cell_type": "code",
   "execution_count": null,
   "metadata": {
    "ExecuteTime": {
     "end_time": "2024-04-26T23:50:31.885946651Z",
     "start_time": "2024-04-26T23:50:31.882960479Z"
    },
    "collapsed": false
   },
   "outputs": [],
   "source": [
    "input_layer = Input((1,64,64))\n",
    "model = Model(input_layer, \"CNN_prototype\")"
   ]
  },
  {
   "cell_type": "code",
   "execution_count": null,
   "metadata": {
    "ExecuteTime": {
     "end_time": "2024-04-26T23:50:32.221029155Z",
     "start_time": "2024-04-26T23:50:32.182413065Z"
    },
    "collapsed": false
   },
   "outputs": [],
   "source": [
    "model.add_layer(Conv2D(20, 5, input_shape=(1, 64, 64), activate_fcn=\"ReLU\"))\n",
    "model.add_layer(AveragePooling2D(2, input_shape=(20, 60, 60)))\n",
    "model.add_layer(Flatten((20, 30, 30)))\n",
    "model.add_layer(Dense(400, 18000, activate_fcn = \"ReLU\"))\n",
    "model.add_layer(Output(4, 400))"
   ]
  },
  {
   "cell_type": "code",
   "execution_count": null,
   "metadata": {
    "ExecuteTime": {
     "end_time": "2024-04-26T23:50:32.835265959Z",
     "start_time": "2024-04-26T23:50:32.831871705Z"
    },
    "collapsed": false
   },
   "outputs": [],
   "source": [
    "import time"
   ]
  },
  {
   "cell_type": "code",
   "execution_count": null,
   "metadata": {
    "ExecuteTime": {
     "end_time": "2024-04-26T23:59:40.009983710Z",
     "start_time": "2024-04-26T23:50:33.177763649Z"
    },
    "collapsed": false
   },
   "outputs": [],
   "source": [
    "model.compile(0.1, \"cross_tropy\")\n",
    "\n",
    "T1 = time.time()\n",
    "history = model.fit(X_train, Y_train, batch_size = 100, epochs = 80, verbose = 1, shuffle = True)\n",
    "T2 = time.time()\n",
    "print('Time Used %s min' % ((T2 - T1) / 60))"
   ]
  },
  {
   "cell_type": "code",
   "execution_count": null,
   "metadata": {
    "ExecuteTime": {
     "end_time": "2024-04-26T23:23:09.665939226Z",
     "start_time": "2024-04-26T23:23:09.665490411Z"
    },
    "collapsed": false
   },
   "outputs": [],
   "source": [
    "from lib.vizutil.visualization import history_show"
   ]
  },
  {
   "cell_type": "code",
   "execution_count": null,
   "metadata": {
    "ExecuteTime": {
     "end_time": "2024-04-26T23:23:09.668567090Z",
     "start_time": "2024-04-26T23:23:09.666908502Z"
    },
    "collapsed": false
   },
   "outputs": [],
   "source": [
    "history_show(history)"
   ]
  },
  {
   "cell_type": "code",
   "execution_count": null,
   "metadata": {
    "ExecuteTime": {
     "end_time": "2024-04-26T21:05:22.655123200Z",
     "start_time": "2024-04-26T21:05:22.577465200Z"
    },
    "collapsed": false
   },
   "outputs": [],
   "source": [
    "model.save('model.h5')"
   ]
  },
  {
   "cell_type": "code",
   "execution_count": null,
   "metadata": {
    "ExecuteTime": {
     "end_time": "2024-04-26T21:05:22.672048600Z",
     "start_time": "2024-04-26T21:05:22.656118600Z"
    },
    "collapsed": false
   },
   "outputs": [],
   "source": [
    "print(model.evaluate(X_test[:10], Y_test[:10]))"
   ]
  }
 ],
 "metadata": {
  "kernelspec": {
   "display_name": "base",
   "language": "python",
   "name": "python3"
  },
  "language_info": {
   "codemirror_mode": {
    "name": "ipython",
    "version": 3
   },
   "file_extension": ".py",
   "mimetype": "text/x-python",
   "name": "python",
   "nbconvert_exporter": "python",
   "pygments_lexer": "ipython3",
   "version": "3.9.17"
  }
 },
 "nbformat": 4,
 "nbformat_minor": 2
}
